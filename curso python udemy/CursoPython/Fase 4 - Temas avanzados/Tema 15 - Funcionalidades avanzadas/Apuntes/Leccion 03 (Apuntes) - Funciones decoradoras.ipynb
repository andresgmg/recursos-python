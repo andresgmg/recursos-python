{
 "cells": [
  {
   "cell_type": "markdown",
   "metadata": {},
   "source": [
    "# Ámbitos y funciones decoradoras"
   ]
  },
  {
   "cell_type": "markdown",
   "metadata": {},
   "source": [
    "#### NOTA: Antes de realizar esta lección debes reiniciar Jupyter Notebook para vaciar la memoria.\n",
    "\n",
    "## Introducción\n",
    "No cabe duda de que Python es un lenguaje flexible, y cuando trabajamos con funciones no es una excepción.\n",
    "\n",
    "En Python, dentro de una función podemos definir otras funciones. Con la peculiaridad de que el ámbito de estas funciones se encuentre únicamente dentro de la función padre. Vamos a trabajar los ámbitos un poco más en profundidad:"
   ]
  },
  {
   "cell_type": "code",
   "execution_count": 2,
   "metadata": {
    "collapsed": false
   },
   "outputs": [],
   "source": [
    "def hola():\n",
    "    \n",
    "    def bienvenido():\n",
    "        return \"Hola!\"\n",
    "    \n",
    "    return bienvenido"
   ]
  },
  {
   "cell_type": "markdown",
   "metadata": {},
   "source": [
    "Si intentamos llamar a la función bienvenido..."
   ]
  },
  {
   "cell_type": "code",
   "execution_count": 3,
   "metadata": {
    "collapsed": false
   },
   "outputs": [
    {
     "ename": "NameError",
     "evalue": "name 'bienvenido' is not defined",
     "output_type": "error",
     "traceback": [
      "\u001b[1;31m---------------------------------------------------------------------------\u001b[0m",
      "\u001b[1;31mNameError\u001b[0m                                 Traceback (most recent call last)",
      "Cell \u001b[1;32mIn[3], line 1\u001b[0m\n\u001b[1;32m----> 1\u001b[0m bienvenido()\n",
      "\u001b[1;31mNameError\u001b[0m: name 'bienvenido' is not defined"
     ]
    }
   ],
   "source": [
    "bienvenido()"
   ]
  },
  {
   "cell_type": "markdown",
   "metadata": {},
   "source": [
    "Como vemos nos da un error de que no existe. En cambio si intentamos ejecutar la función **hola()**:"
   ]
  },
  {
   "cell_type": "code",
   "execution_count": 4,
   "metadata": {
    "collapsed": false
   },
   "outputs": [
    {
     "data": {
      "text/plain": [
       "<function __main__.hola.<locals>.bienvenido()>"
      ]
     },
     "execution_count": 4,
     "metadata": {},
     "output_type": "execute_result"
    }
   ],
   "source": [
    "hola()"
   ]
  },
  {
   "cell_type": "markdown",
   "metadata": {},
   "source": [
    "Se devuelve la función bienvenido, y podemos apreciar dentro de su definición que existe un espacio llamado **locals**, el cual hace referencia al ámbito local que abarca la función.\n",
    "\n",
    "### Ámbito local y global\n",
    "Si utilizamos una función reservada **locals()** obtendremos un diccionario con todas las definiciones dentro del espacio local del bloque en el que estamos:"
   ]
  },
  {
   "cell_type": "code",
   "execution_count": 6,
   "metadata": {
    "collapsed": false
   },
   "outputs": [
    {
     "name": "stdout",
     "output_type": "stream",
     "text": [
      "{'bienvenido': <function hola.<locals>.bienvenido at 0x000001FC2D6ACF40>}\n"
     ]
    }
   ],
   "source": [
    "def hola():\n",
    "    \n",
    "    def bienvenido():\n",
    "        return \"Hola!\"\n",
    "    \n",
    "    print( locals() )  # Mostramos el ámbito local\n",
    "\n",
    "hola()"
   ]
  },
  {
   "cell_type": "markdown",
   "metadata": {},
   "source": [
    "Como vemos se nos muestra un diccionario, aquí encontraremos la función **bienvenido()**.\n",
    "\n",
    "Podríamos añadir algo más:"
   ]
  },
  {
   "cell_type": "code",
   "execution_count": 7,
   "metadata": {
    "collapsed": false,
    "scrolled": true
   },
   "outputs": [
    {
     "name": "stdout",
     "output_type": "stream",
     "text": [
      "{'numero': 50, 'bienvenido': <function hola.<locals>.bienvenido at 0x000001FC2D6AD300>}\n"
     ]
    }
   ],
   "source": [
    "lista = [1,2,3]\n",
    "\n",
    "def hola():\n",
    "    \n",
    "    numero = 50\n",
    "    \n",
    "    def bienvenido():\n",
    "        return \"Hola!\"\n",
    "    \n",
    "    print( locals() )  # Mostramos el ámbito local\n",
    "\n",
    "hola()"
   ]
  },
  {
   "cell_type": "markdown",
   "metadata": {},
   "source": [
    "Como podemos observar, ahora además de la función tenemos una clave con el número y el valor 50. Sin embargo no encontramos la lista, pues esta se encuentra fuera del ámbito local. De hecho se encuentra en el ámbito global, el cual podemos mostrar con la función reservada **globals()**:"
   ]
  },
  {
   "cell_type": "code",
   "execution_count": 9,
   "metadata": {
    "collapsed": false
   },
   "outputs": [
    {
     "name": "stdout",
     "output_type": "stream",
     "text": [
      "{'__name__': '__main__', '__doc__': 'Automatically created module for IPython interactive environment', '__package__': None, '__loader__': None, '__spec__': None, '__builtin__': <module 'builtins' (built-in)>, '__builtins__': <module 'builtins' (built-in)>, '_ih': ['', 'def hola():\\n    \\n    def bienvenido():\\n        return \"Hola!\"\\n    \\n    return bienvenido', 'def hola():\\n    \\n    def bienvenido():\\n        return \"Hola!\"\\n    \\n    return bienvenido', 'bienvenido()', 'hola()', 'def hola():\\n    \\n    def bienvenido():\\n        return \"Hola!\"\\n    \\n    print( locals() )  # Mostramos el ámbito local\\n\\nhola()', 'def hola():\\n    \\n    def bienvenido():\\n        return \"Hola!\"\\n    \\n    print( locals() )  # Mostramos el ámbito local\\n\\nhola()', 'lista = [1,2,3]\\n\\ndef hola():\\n    \\n    numero = 50\\n    \\n    def bienvenido():\\n        return \"Hola!\"\\n    \\n    print( locals() )  # Mostramos el ámbito local\\n\\nhola()', '# Antes de ejecutar este bloque reinicia el Notebook para vaciar la memoria.\\nlista = [1,2,3]\\n\\ndef hola():\\n    \\n    numero = 50\\n    \\n    def bienvenido():\\n        return \"Hola!\"\\n    \\n    print( globals() )  # Mostramos el ámbito global\\n\\nhola()', '# Antes de ejecutar este bloque reinicia el Notebook para vaciar la memoria.\\nlista = [1,2,3]\\n\\ndef hola():\\n    \\n    numero = 50\\n    \\n    def bienvenido():\\n        return \"Hola!\"\\n    \\n    print( globals() )  # Mostramos el ámbito global\\n\\nhola()'], '_oh': {4: <function hola.<locals>.bienvenido at 0x000001FC2D6AC5E0>}, '_dh': [WindowsPath('c:/Users/ANDRES-PC/Desktop/Github/tutoriales-python/curso python udemy/CursoPython/Fase 4 - Temas avanzados/Tema 15 - Funcionalidades avanzadas/Apuntes'), WindowsPath('c:/Users/ANDRES-PC/Desktop/Github/tutoriales-python/curso python udemy/CursoPython/Fase 4 - Temas avanzados/Tema 15 - Funcionalidades avanzadas/Apuntes')], 'In': ['', 'def hola():\\n    \\n    def bienvenido():\\n        return \"Hola!\"\\n    \\n    return bienvenido', 'def hola():\\n    \\n    def bienvenido():\\n        return \"Hola!\"\\n    \\n    return bienvenido', 'bienvenido()', 'hola()', 'def hola():\\n    \\n    def bienvenido():\\n        return \"Hola!\"\\n    \\n    print( locals() )  # Mostramos el ámbito local\\n\\nhola()', 'def hola():\\n    \\n    def bienvenido():\\n        return \"Hola!\"\\n    \\n    print( locals() )  # Mostramos el ámbito local\\n\\nhola()', 'lista = [1,2,3]\\n\\ndef hola():\\n    \\n    numero = 50\\n    \\n    def bienvenido():\\n        return \"Hola!\"\\n    \\n    print( locals() )  # Mostramos el ámbito local\\n\\nhola()', '# Antes de ejecutar este bloque reinicia el Notebook para vaciar la memoria.\\nlista = [1,2,3]\\n\\ndef hola():\\n    \\n    numero = 50\\n    \\n    def bienvenido():\\n        return \"Hola!\"\\n    \\n    print( globals() )  # Mostramos el ámbito global\\n\\nhola()', '# Antes de ejecutar este bloque reinicia el Notebook para vaciar la memoria.\\nlista = [1,2,3]\\n\\ndef hola():\\n    \\n    numero = 50\\n    \\n    def bienvenido():\\n        return \"Hola!\"\\n    \\n    print( globals() )  # Mostramos el ámbito global\\n\\nhola()'], 'Out': {4: <function hola.<locals>.bienvenido at 0x000001FC2D6AC5E0>}, 'get_ipython': <bound method InteractiveShell.get_ipython of <ipykernel.zmqshell.ZMQInteractiveShell object at 0x000001FC2D609C90>>, 'exit': <IPython.core.autocall.ZMQExitAutocall object at 0x000001FC2D685690>, 'quit': <IPython.core.autocall.ZMQExitAutocall object at 0x000001FC2D685690>, 'open': <function open at 0x000001FC2B3442C0>, '_': <function hola.<locals>.bienvenido at 0x000001FC2D6AC5E0>, '__': '', '___': '', '__vsc_ipynb_file__': 'c:\\\\Users\\\\ANDRES-PC\\\\Desktop\\\\Github\\\\tutoriales-python\\\\curso python udemy\\\\CursoPython\\\\Fase 4 - Temas avanzados\\\\Tema 15 - Funcionalidades avanzadas\\\\Apuntes\\\\Leccion 03 (Apuntes) - Funciones decoradoras.ipynb', '_i': '# Antes de ejecutar este bloque reinicia el Notebook para vaciar la memoria.\\nlista = [1,2,3]\\n\\ndef hola():\\n    \\n    numero = 50\\n    \\n    def bienvenido():\\n        return \"Hola!\"\\n    \\n    print( globals() )  # Mostramos el ámbito global\\n\\nhola()', '_ii': 'lista = [1,2,3]\\n\\ndef hola():\\n    \\n    numero = 50\\n    \\n    def bienvenido():\\n        return \"Hola!\"\\n    \\n    print( locals() )  # Mostramos el ámbito local\\n\\nhola()', '_iii': 'def hola():\\n    \\n    def bienvenido():\\n        return \"Hola!\"\\n    \\n    print( locals() )  # Mostramos el ámbito local\\n\\nhola()', '_i1': 'def hola():\\n    \\n    def bienvenido():\\n        return \"Hola!\"\\n    \\n    return bienvenido', 'hola': <function hola at 0x000001FC2D6ACFE0>, '_i2': 'def hola():\\n    \\n    def bienvenido():\\n        return \"Hola!\"\\n    \\n    return bienvenido', '_i3': 'bienvenido()', '_i4': 'hola()', '_4': <function hola.<locals>.bienvenido at 0x000001FC2D6AC5E0>, '_i5': 'def hola():\\n    \\n    def bienvenido():\\n        return \"Hola!\"\\n    \\n    print( locals() )  # Mostramos el ámbito local\\n\\nhola()', '_i6': 'def hola():\\n    \\n    def bienvenido():\\n        return \"Hola!\"\\n    \\n    print( locals() )  # Mostramos el ámbito local\\n\\nhola()', '_i7': 'lista = [1,2,3]\\n\\ndef hola():\\n    \\n    numero = 50\\n    \\n    def bienvenido():\\n        return \"Hola!\"\\n    \\n    print( locals() )  # Mostramos el ámbito local\\n\\nhola()', 'lista': [1, 2, 3], '_i8': '# Antes de ejecutar este bloque reinicia el Notebook para vaciar la memoria.\\nlista = [1,2,3]\\n\\ndef hola():\\n    \\n    numero = 50\\n    \\n    def bienvenido():\\n        return \"Hola!\"\\n    \\n    print( globals() )  # Mostramos el ámbito global\\n\\nhola()', '_i9': '# Antes de ejecutar este bloque reinicia el Notebook para vaciar la memoria.\\nlista = [1,2,3]\\n\\ndef hola():\\n    \\n    numero = 50\\n    \\n    def bienvenido():\\n        return \"Hola!\"\\n    \\n    print( globals() )  # Mostramos el ámbito global\\n\\nhola()'}\n"
     ]
    }
   ],
   "source": [
    "# Antes de ejecutar este bloque reinicia el Notebook para vaciar la memoria.\n",
    "lista = [1,2,3]\n",
    "\n",
    "def hola():\n",
    "    \n",
    "    numero = 50\n",
    "    \n",
    "    def bienvenido():\n",
    "        return \"Hola!\"\n",
    "    \n",
    "    print( globals() )  # Mostramos el ámbito global\n",
    "\n",
    "hola()"
   ]
  },
  {
   "cell_type": "markdown",
   "metadata": {},
   "source": [
    "Tampoco es necesario que nos paremos a analizar el contenido, pero como podemos observar, desde el ámbito global tenemos acceso a muchas más definiciones porque engloba a su vez todas las de sus bloques padres. \n",
    "\n",
    "Si mostramos únicamente las claves del diccionario **globals()**, quizá sería más entendible:"
   ]
  },
  {
   "cell_type": "code",
   "execution_count": 10,
   "metadata": {
    "collapsed": false
   },
   "outputs": [
    {
     "data": {
      "text/plain": [
       "dict_keys(['__name__', '__doc__', '__package__', '__loader__', '__spec__', '__builtin__', '__builtins__', '_ih', '_oh', '_dh', 'In', 'Out', 'get_ipython', 'exit', 'quit', 'open', '_', '__', '___', '__vsc_ipynb_file__', '_i', '_ii', '_iii', '_i1', 'hola', '_i2', '_i3', '_i4', '_4', '_i5', '_i6', '_i7', 'lista', '_i8', '_i9', '_i10'])"
      ]
     },
     "execution_count": 10,
     "metadata": {},
     "output_type": "execute_result"
    }
   ],
   "source": [
    "globals().keys()"
   ]
  },
  {
   "cell_type": "markdown",
   "metadata": {},
   "source": [
    "Ahora si buscamos bien encontraremos la clave **lista**, la cual hace referencia a la variable declarada fuera de la función. Incluso podríamos acceder a ella como si fuera un diccionario normal:"
   ]
  },
  {
   "cell_type": "code",
   "execution_count": 11,
   "metadata": {
    "collapsed": false
   },
   "outputs": [
    {
     "data": {
      "text/plain": [
       "[1, 2, 3]"
      ]
     },
     "execution_count": 11,
     "metadata": {},
     "output_type": "execute_result"
    }
   ],
   "source": [
    "globals()['lista']  # Desde la función globals"
   ]
  },
  {
   "cell_type": "code",
   "execution_count": 12,
   "metadata": {
    "collapsed": false
   },
   "outputs": [
    {
     "data": {
      "text/plain": [
       "[1, 2, 3]"
      ]
     },
     "execution_count": 12,
     "metadata": {},
     "output_type": "execute_result"
    }
   ],
   "source": [
    "lista  # Forma tradicional"
   ]
  },
  {
   "cell_type": "markdown",
   "metadata": {},
   "source": [
    "## Funciones como variables\n",
    "Volviendo a nuestra función **hola()**, ahora sabemos que si la ejecutamos, en realidad estamos accediendo a su función local  **bienvenido()**, pero eso no significa que la ejecutamos, sólo estamos haciendo referencia a ella.\n",
    "\n",
    "Esa es la razón de que se devuelva su definición y no el resultado de su ejecución:"
   ]
  },
  {
   "cell_type": "code",
   "execution_count": 13,
   "metadata": {
    "collapsed": false
   },
   "outputs": [
    {
     "data": {
      "text/plain": [
       "<function __main__.hola.<locals>.bienvenido()>"
      ]
     },
     "execution_count": 13,
     "metadata": {},
     "output_type": "execute_result"
    }
   ],
   "source": [
    "def hola():\n",
    "    \n",
    "    def bienvenido():\n",
    "        return \"Hola!\"\n",
    "    \n",
    "    return bienvenido\n",
    "\n",
    "hola()"
   ]
  },
  {
   "cell_type": "markdown",
   "metadata": {},
   "source": [
    "Por muy raro que parezca, podríamos ejecutarla llamando una segunda vez al paréntesis. La primera para **hola()** y la segunda para **bienvenido()**:"
   ]
  },
  {
   "cell_type": "code",
   "execution_count": 14,
   "metadata": {
    "collapsed": false
   },
   "outputs": [
    {
     "data": {
      "text/plain": [
       "'Hola!'"
      ]
     },
     "execution_count": 14,
     "metadata": {},
     "output_type": "execute_result"
    }
   ],
   "source": [
    "hola()()"
   ]
  },
  {
   "cell_type": "markdown",
   "metadata": {},
   "source": [
    "Como es realmente extraño, normalmente lo que hacemos es asignar la función a una variable y ejecutarla como si fuera una nueva función:"
   ]
  },
  {
   "cell_type": "code",
   "execution_count": 20,
   "metadata": {
    "collapsed": false
   },
   "outputs": [
    {
     "ename": "NameError",
     "evalue": "name 'hola' is not defined",
     "output_type": "error",
     "traceback": [
      "\u001b[1;31m---------------------------------------------------------------------------\u001b[0m",
      "\u001b[1;31mNameError\u001b[0m                                 Traceback (most recent call last)",
      "Cell \u001b[1;32mIn[20], line 1\u001b[0m\n\u001b[1;32m----> 1\u001b[0m bienvenido \u001b[39m=\u001b[39m hola()\n\u001b[0;32m      2\u001b[0m bienvenido()\n",
      "\u001b[1;31mNameError\u001b[0m: name 'hola' is not defined"
     ]
    }
   ],
   "source": [
    "bienvenido = hola()\n",
    "bienvenido()"
   ]
  },
  {
   "cell_type": "markdown",
   "metadata": {},
   "source": [
    "A diferencia de las colecciones y los objetos, donde las copias se utilizaban como accesos directos, las copias de las funciones son independientes y aunque borrásemos la original, la nueva copia seguiría existiendo:"
   ]
  },
  {
   "cell_type": "code",
   "execution_count": 21,
   "metadata": {
    "collapsed": false
   },
   "outputs": [
    {
     "ename": "NameError",
     "evalue": "name 'hola' is not defined",
     "output_type": "error",
     "traceback": [
      "\u001b[1;31m---------------------------------------------------------------------------\u001b[0m",
      "\u001b[1;31mNameError\u001b[0m                                 Traceback (most recent call last)",
      "Cell \u001b[1;32mIn[21], line 1\u001b[0m\n\u001b[1;32m----> 1\u001b[0m \u001b[39mdel\u001b[39;00m(hola)\n\u001b[0;32m      3\u001b[0m bienvenido()\n",
      "\u001b[1;31mNameError\u001b[0m: name 'hola' is not defined"
     ]
    }
   ],
   "source": [
    "del(hola)\n",
    "\n",
    "bienvenido()"
   ]
  },
  {
   "cell_type": "markdown",
   "metadata": {},
   "source": [
    "## Funciones como argumentos\n",
    "Si ya era extraño ejecutar funciones anidadas, todavía es más extraño el concepto de enviar una función como argumento de otra función, sin embargo gracias a la flexibilidad de Python es posible hacerlo:"
   ]
  },
  {
   "cell_type": "code",
   "execution_count": 24,
   "metadata": {
    "collapsed": false
   },
   "outputs": [
    {
     "name": "stdout",
     "output_type": "stream",
     "text": [
      "Hola!\n"
     ]
    }
   ],
   "source": [
    "def hola():\n",
    "    return \"Hola!\"\n",
    "\n",
    "def test(funcion):\n",
    "    print( funcion() )\n",
    "    \n",
    "test(hola)"
   ]
  },
  {
   "cell_type": "markdown",
   "metadata": {},
   "source": [
    "Quizá en este momento no se ocurren muchas utilidades para esta funcionalidad, pero creedme que es realmente útil cuando queremos extender funciones ya existentes sin modificarlas. De ahí que este proceso se conozca como un decorador, y de ahí pasamos directamente a las funciones decoradoras."
   ]
  },
  {
   "cell_type": "markdown",
   "metadata": {},
   "source": [
    "## Funciones decoradoras\n",
    "Una función decoradora es una función que envuelve la ejecución de otra función y permite extender su comportamiento. Están pensadas para reutilazarlas gracias a una sintaxis de ejecución mucho más simple.\n",
    "\n",
    "Imaginaros estas dos funciones sencillas:"
   ]
  },
  {
   "cell_type": "code",
   "execution_count": 25,
   "metadata": {
    "collapsed": false
   },
   "outputs": [],
   "source": [
    "def hola():\n",
    "    print(\"Hola!\")\n",
    "\n",
    "def adios():\n",
    "    print(\"Adiós!\")"
   ]
  },
  {
   "cell_type": "markdown",
   "metadata": {},
   "source": [
    "Y queremos queremos crear un decorador para monitorizar cuando se ejecutan las dos funciones, avisando antes y después. \n",
    "\n",
    "Para crear una función decoradora tenemos que recibir la función a ejecutar, y envolver su ejecución con el código a extender:"
   ]
  },
  {
   "cell_type": "code",
   "execution_count": 26,
   "metadata": {
    "collapsed": false
   },
   "outputs": [],
   "source": [
    "def monitorizar(funcion):\n",
    "\n",
    "    def decorar():\n",
    "        print(\"\\t* Se está apunto de ejecutar la función:\", funcion.__name__)\n",
    "        \n",
    "        funcion()\n",
    "        \n",
    "        print(\"\\t* Se ha finalizado de ejecutar la función:\", funcion.__name__)\n",
    "\n",
    "    return decorar"
   ]
  },
  {
   "cell_type": "markdown",
   "metadata": {},
   "source": [
    "Ahora para realizar la monitorización deberíamos llamar al monitor ejecutando la función enviada y devuelta:"
   ]
  },
  {
   "cell_type": "code",
   "execution_count": 28,
   "metadata": {
    "collapsed": false
   },
   "outputs": [
    {
     "name": "stdout",
     "output_type": "stream",
     "text": [
      "\t* Se está apunto de ejecutar la función: hola\n",
      "Hola!\n",
      "\t* Se ha finalizado de ejecutar la función: hola\n"
     ]
    }
   ],
   "source": [
    "monitorizar(hola)()"
   ]
  },
  {
   "cell_type": "markdown",
   "metadata": {},
   "source": [
    "Sin embargo esto no es muy cómodo, y ahí es cuando aparece la sintaxis que nos permite configurar una función decoradora en una función normal:"
   ]
  },
  {
   "cell_type": "code",
   "execution_count": 29,
   "metadata": {
    "collapsed": true
   },
   "outputs": [],
   "source": [
    "@monitorizar\n",
    "def hola():\n",
    "    print(\"Hola!\")\n",
    "\n",
    "@monitorizar\n",
    "def adios():\n",
    "    print(\"Adiós!\")"
   ]
  },
  {
   "cell_type": "markdown",
   "metadata": {},
   "source": [
    "Una vez configurada la función decoradora, al utilizar las funciones se ejecutarán automáticamente dentro de la función decoradora:"
   ]
  },
  {
   "cell_type": "code",
   "execution_count": 30,
   "metadata": {
    "collapsed": false
   },
   "outputs": [
    {
     "name": "stdout",
     "output_type": "stream",
     "text": [
      "\t* Se está apunto de ejecutar la función: hola\n",
      "Hola!\n",
      "\t* Se ha finalizado de ejecutar la función: hola\n",
      "\n",
      "\t* Se está apunto de ejecutar la función: adios\n",
      "Adiós!\n",
      "\t* Se ha finalizado de ejecutar la función: adios\n"
     ]
    }
   ],
   "source": [
    "hola()\n",
    "print()\n",
    "adios()"
   ]
  },
  {
   "cell_type": "markdown",
   "metadata": {},
   "source": [
    "## Pasando argumentos al decorador"
   ]
  },
  {
   "cell_type": "code",
   "execution_count": 32,
   "metadata": {
    "collapsed": false
   },
   "outputs": [
    {
     "name": "stdout",
     "output_type": "stream",
     "text": [
      "\t* Se está apunto de ejecutar la función: hola\n",
      "Hola Héctor!\n",
      "\t* Se ha finalizado de ejecutar la función: hola\n",
      "\n",
      "\t* Se está apunto de ejecutar la función: adios\n",
      "Adiós Héctor!\n",
      "\t* Se ha finalizado de ejecutar la función: adios\n"
     ]
    }
   ],
   "source": [
    "def monitorizar_args(funcion):\n",
    "\n",
    "    def decorar(*args,**kwargs):\n",
    "        print(\"\\t* Se está apunto de ejecutar la función:\", funcion.__name__)\n",
    "        funcion(*args,**kwargs)\n",
    "        print(\"\\t* Se ha finalizado de ejecutar la función:\", funcion.__name__)\n",
    "\n",
    "    return decorar\n",
    "\n",
    "@monitorizar_args\n",
    "def hola(nombre):\n",
    "    print(\"Hola {}!\".format(nombre))\n",
    "\n",
    "@monitorizar_args\n",
    "def adios(nombre):\n",
    "    print(\"Adiós {}!\".format(nombre))\n",
    "    \n",
    "hola(\"Héctor\")\n",
    "print()\n",
    "adios(\"Héctor\")"
   ]
  },
  {
   "cell_type": "markdown",
   "metadata": {},
   "source": [
    "**Perfecto!** Ahora ya sabes qué son las funciones decoradoras y cómo utilizar el símbolo @ para automatizar su ejecución. Estas funciones se utilizan mucho cuando trabajamos con Frameworks Web como Django, así que seguro te harán servicio si tienes pensado aprender a utilizarlo."
   ]
  }
 ],
 "metadata": {
  "anaconda-cloud": {},
  "kernelspec": {
   "display_name": "Python [default]",
   "language": "python",
   "name": "python3"
  },
  "language_info": {
   "codemirror_mode": {
    "name": "ipython",
    "version": 3
   },
   "file_extension": ".py",
   "mimetype": "text/x-python",
   "name": "python",
   "nbconvert_exporter": "python",
   "pygments_lexer": "ipython3",
   "version": "3.11.3"
  }
 },
 "nbformat": 4,
 "nbformat_minor": 0
}
